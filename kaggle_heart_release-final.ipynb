{
 "cells": [
  {
   "cell_type": "code",
   "execution_count": 1,
   "id": "1d8fd781",
   "metadata": {},
   "outputs": [],
   "source": [
    "import numpy as np\n",
    "import pandas as pd\n",
    "#\n",
    "from sklearn.preprocessing import StandardScaler\n",
    "from sklearn.tree import DecisionTreeClassifier\n",
    "from sklearn.ensemble import RandomForestClassifier\n",
    "from sklearn.linear_model import LogisticRegression \n",
    "from sklearn.metrics import accuracy_score\n",
    "from sklearn.utils import shuffle\n",
    "from sklearn.metrics import f1_score\n",
    "from sklearn.model_selection import cross_val_score\n",
    "from sklearn.feature_selection import SelectFromModel\n",
    "from sklearn.metrics import accuracy_score\n",
    "from sklearn.metrics import roc_auc_score\n",
    "from sklearn.preprocessing import OrdinalEncoder\n",
    "from sklearn.preprocessing import OneHotEncoder\n",
    "#\n",
    "import matplotlib.pyplot as plt"
   ]
  },
  {
   "cell_type": "code",
   "execution_count": 4,
   "id": "0b724058",
   "metadata": {},
   "outputs": [],
   "source": [
    "df = pd.read_csv('train.csv')"
   ]
  },
  {
   "cell_type": "code",
   "execution_count": 5,
   "id": "d21fff1e",
   "metadata": {
    "scrolled": true
   },
   "outputs": [],
   "source": [
    "#df.describe()"
   ]
  },
  {
   "cell_type": "markdown",
   "id": "dcf1798f",
   "metadata": {},
   "source": [
    "### EDA"
   ]
  },
  {
   "cell_type": "code",
   "execution_count": 6,
   "id": "51cab156",
   "metadata": {},
   "outputs": [],
   "source": [
    "df['imt']=df.weight/(df.height**2)*10000"
   ]
  },
  {
   "cell_type": "code",
   "execution_count": 7,
   "id": "eee01b97",
   "metadata": {},
   "outputs": [],
   "source": [
    "df.loc[df.height<100,'height'] = df[df.height<100].height+100\n",
    "median_height = df.height.median()\n",
    "df.loc[(df.height<100) |(df.height > 210) ,'height'] = median_height\n",
    "median_weight = df.weight.median()\n",
    "df.loc[df.weight<40,'weight'] = median_weight\n",
    "\n",
    "df.loc[df.ap_hi<20,'ap_hi'] = df[df.ap_hi<20]*10\n",
    "df.loc[df.ap_hi<0,'ap_hi'] = df[df.ap_hi<20]*(-1)\n",
    "df.loc[df.ap_hi>300,'ap_hi'] = df[df.ap_hi>300]/10\n",
    "df.loc[df.ap_hi>300,'ap_hi'] = df[df.ap_hi>300]/10\n",
    "df.loc[df.ap_lo>200,'ap_lo'] = df[df.ap_lo>200]/10\n",
    "df.loc[df.ap_lo>200,'ap_lo'] = df[df.ap_lo>200]/10\n"
   ]
  },
  {
   "cell_type": "code",
   "execution_count": 8,
   "id": "913cb267",
   "metadata": {},
   "outputs": [],
   "source": [
    "df.loc[df.ap_hi<df.ap_lo, ['ap_hi', 'ap_lo']] = df.loc[df.ap_hi<df.ap_lo, ['ap_lo', 'ap_hi']].values"
   ]
  },
  {
   "cell_type": "code",
   "execution_count": 10,
   "id": "723d8f40",
   "metadata": {},
   "outputs": [],
   "source": [
    "#df.hist()"
   ]
  },
  {
   "cell_type": "markdown",
   "id": "ef7000f1",
   "metadata": {},
   "source": [
    "### prepare for ML"
   ]
  },
  {
   "cell_type": "markdown",
   "id": "2ca3a35b",
   "metadata": {},
   "source": [
    "#### OHE"
   ]
  },
  {
   "cell_type": "code",
   "execution_count": 11,
   "id": "7041c9ee",
   "metadata": {},
   "outputs": [],
   "source": [
    "df = df.drop(['id'], axis =1)\n",
    "df.gender = df.gender - 1"
   ]
  },
  {
   "cell_type": "code",
   "execution_count": 12,
   "id": "3e151369",
   "metadata": {},
   "outputs": [],
   "source": [
    "ohe_columns = ['cholesterol','gluc', ]\n",
    "ohe = OneHotEncoder(sparse=False, drop = 'first')\n",
    "encoded_array = ohe.fit_transform(df.loc[:,ohe_columns])\n",
    "df_c = pd.DataFrame(encoded_array,columns=ohe.get_feature_names_out() )\n",
    "df3 = pd.concat([df, df_c], axis=1)"
   ]
  },
  {
   "cell_type": "code",
   "execution_count": 13,
   "id": "81ff151c",
   "metadata": {},
   "outputs": [],
   "source": [
    "features= df3.drop(['cardio', 'cholesterol','gluc'], axis=1)\n",
    "target = df3['cardio']"
   ]
  },
  {
   "cell_type": "markdown",
   "id": "eb129813",
   "metadata": {},
   "source": [
    "#### scale"
   ]
  },
  {
   "cell_type": "code",
   "execution_count": 14,
   "id": "22ba6eb4",
   "metadata": {},
   "outputs": [],
   "source": [
    "scale_columns = ['age', 'height', 'weight', 'ap_hi', 'ap_lo', 'imt']\n",
    "scaler = StandardScaler()\n",
    "scaler.fit(features[scale_columns])\n",
    "features_s= scaler.transform(features[scale_columns])\n",
    "features_s = pd.DataFrame(features_s)\n",
    "features_s.columns = scale_columns\n",
    "features.drop(scale_columns, axis=1, inplace = True)\n",
    "features_s = pd.concat([features_s, features], axis=1)"
   ]
  },
  {
   "cell_type": "code",
   "execution_count": 15,
   "id": "c17fdfd7",
   "metadata": {},
   "outputs": [
    {
     "name": "stdout",
     "output_type": "stream",
     "text": [
      "1.0012007204322593\n"
     ]
    }
   ],
   "source": [
    "target.value_counts()\n",
    "class_0_w = 1\n",
    "class_1_w = len(target[target==0])/len(target[target==1])\n",
    "print(class_1_w)"
   ]
  },
  {
   "cell_type": "markdown",
   "id": "fe2f58f6",
   "metadata": {},
   "source": [
    "### ML"
   ]
  },
  {
   "cell_type": "code",
   "execution_count": 16,
   "id": "00a6073e",
   "metadata": {},
   "outputs": [],
   "source": [
    "features_s = features_s.drop(['alco', 'gluc_2'], axis=1)"
   ]
  },
  {
   "cell_type": "code",
   "execution_count": 23,
   "id": "49423865",
   "metadata": {},
   "outputs": [
    {
     "name": "stdout",
     "output_type": "stream",
     "text": [
      "Est = 59 depth = 12  AUC_ROC Score 0.80207 accuracy\n",
      "Est = 59 depth = 13  AUC_ROC Score 0.80184 accuracy\n",
      "Est = 59 depth = 14  AUC_ROC Score 0.80205 accuracy\n",
      "Est = 59 depth = 15  AUC_ROC Score 0.80209 accuracy\n",
      "Est = 59 depth = 16  AUC_ROC Score 0.80183 accuracy\n",
      "Est = 60 depth = 12  AUC_ROC Score 0.80209 accuracy\n",
      "Est = 60 depth = 13  AUC_ROC Score 0.80187 accuracy\n",
      "Est = 60 depth = 14  AUC_ROC Score 0.80206 accuracy\n",
      "Est = 60 depth = 15  AUC_ROC Score 0.80213 accuracy\n",
      "Est = 60 depth = 16  AUC_ROC Score 0.80186 accuracy\n",
      "Maximum: est= 60 depth= 15 accuracy score =  0.8021335918514224\n"
     ]
    }
   ],
   "source": [
    "score_max=0\n",
    "for est in range(59, 61,1):\n",
    "    for depth in range(12,17, 1):\n",
    "        model_1 = RandomForestClassifier(class_weight={0:class_0_w,1:class_1_w},criterion='entropy', random_state=54321, n_estimators = est, max_depth=depth, min_samples_leaf=50)\n",
    "        scores = cross_val_score(model_1,features_s,  target, scoring=\"roc_auc\", cv=4)\n",
    "        print(\"Est = %d depth = %d  AUC_ROC Score %0.5f accuracy\" % ( est , depth, scores.mean()))\n",
    "        if scores.mean() > score_max:\n",
    "            score_max = scores.mean()\n",
    "            est_max=est\n",
    "            depth_max = depth\n",
    "print(\"Maximum: est=\", est_max, \"depth=\", depth_max,\"accuracy score = \", score_max)"
   ]
  },
  {
   "cell_type": "code",
   "execution_count": 37,
   "id": "df9678eb",
   "metadata": {},
   "outputs": [
    {
     "data": {
      "text/html": [
       "<style>#sk-container-id-2 {color: black;background-color: white;}#sk-container-id-2 pre{padding: 0;}#sk-container-id-2 div.sk-toggleable {background-color: white;}#sk-container-id-2 label.sk-toggleable__label {cursor: pointer;display: block;width: 100%;margin-bottom: 0;padding: 0.3em;box-sizing: border-box;text-align: center;}#sk-container-id-2 label.sk-toggleable__label-arrow:before {content: \"▸\";float: left;margin-right: 0.25em;color: #696969;}#sk-container-id-2 label.sk-toggleable__label-arrow:hover:before {color: black;}#sk-container-id-2 div.sk-estimator:hover label.sk-toggleable__label-arrow:before {color: black;}#sk-container-id-2 div.sk-toggleable__content {max-height: 0;max-width: 0;overflow: hidden;text-align: left;background-color: #f0f8ff;}#sk-container-id-2 div.sk-toggleable__content pre {margin: 0.2em;color: black;border-radius: 0.25em;background-color: #f0f8ff;}#sk-container-id-2 input.sk-toggleable__control:checked~div.sk-toggleable__content {max-height: 200px;max-width: 100%;overflow: auto;}#sk-container-id-2 input.sk-toggleable__control:checked~label.sk-toggleable__label-arrow:before {content: \"▾\";}#sk-container-id-2 div.sk-estimator input.sk-toggleable__control:checked~label.sk-toggleable__label {background-color: #d4ebff;}#sk-container-id-2 div.sk-label input.sk-toggleable__control:checked~label.sk-toggleable__label {background-color: #d4ebff;}#sk-container-id-2 input.sk-hidden--visually {border: 0;clip: rect(1px 1px 1px 1px);clip: rect(1px, 1px, 1px, 1px);height: 1px;margin: -1px;overflow: hidden;padding: 0;position: absolute;width: 1px;}#sk-container-id-2 div.sk-estimator {font-family: monospace;background-color: #f0f8ff;border: 1px dotted black;border-radius: 0.25em;box-sizing: border-box;margin-bottom: 0.5em;}#sk-container-id-2 div.sk-estimator:hover {background-color: #d4ebff;}#sk-container-id-2 div.sk-parallel-item::after {content: \"\";width: 100%;border-bottom: 1px solid gray;flex-grow: 1;}#sk-container-id-2 div.sk-label:hover label.sk-toggleable__label {background-color: #d4ebff;}#sk-container-id-2 div.sk-serial::before {content: \"\";position: absolute;border-left: 1px solid gray;box-sizing: border-box;top: 0;bottom: 0;left: 50%;z-index: 0;}#sk-container-id-2 div.sk-serial {display: flex;flex-direction: column;align-items: center;background-color: white;padding-right: 0.2em;padding-left: 0.2em;position: relative;}#sk-container-id-2 div.sk-item {position: relative;z-index: 1;}#sk-container-id-2 div.sk-parallel {display: flex;align-items: stretch;justify-content: center;background-color: white;position: relative;}#sk-container-id-2 div.sk-item::before, #sk-container-id-2 div.sk-parallel-item::before {content: \"\";position: absolute;border-left: 1px solid gray;box-sizing: border-box;top: 0;bottom: 0;left: 50%;z-index: -1;}#sk-container-id-2 div.sk-parallel-item {display: flex;flex-direction: column;z-index: 1;position: relative;background-color: white;}#sk-container-id-2 div.sk-parallel-item:first-child::after {align-self: flex-end;width: 50%;}#sk-container-id-2 div.sk-parallel-item:last-child::after {align-self: flex-start;width: 50%;}#sk-container-id-2 div.sk-parallel-item:only-child::after {width: 0;}#sk-container-id-2 div.sk-dashed-wrapped {border: 1px dashed gray;margin: 0 0.4em 0.5em 0.4em;box-sizing: border-box;padding-bottom: 0.4em;background-color: white;}#sk-container-id-2 div.sk-label label {font-family: monospace;font-weight: bold;display: inline-block;line-height: 1.2em;}#sk-container-id-2 div.sk-label-container {text-align: center;}#sk-container-id-2 div.sk-container {/* jupyter's `normalize.less` sets `[hidden] { display: none; }` but bootstrap.min.css set `[hidden] { display: none !important; }` so we also need the `!important` here to be able to override the default hidden behavior on the sphinx rendered scikit-learn.org. See: https://github.com/scikit-learn/scikit-learn/issues/21755 */display: inline-block !important;position: relative;}#sk-container-id-2 div.sk-text-repr-fallback {display: none;}</style><div id=\"sk-container-id-2\" class=\"sk-top-container\"><div class=\"sk-text-repr-fallback\"><pre>RandomForestClassifier(class_weight={0: 1, 1: 1.0012007204322593},\n",
       "                       criterion=&#x27;entropy&#x27;, max_depth=15, min_samples_leaf=50,\n",
       "                       n_estimators=60, random_state=54321)</pre><b>In a Jupyter environment, please rerun this cell to show the HTML representation or trust the notebook. <br />On GitHub, the HTML representation is unable to render, please try loading this page with nbviewer.org.</b></div><div class=\"sk-container\" hidden><div class=\"sk-item\"><div class=\"sk-estimator sk-toggleable\"><input class=\"sk-toggleable__control sk-hidden--visually\" id=\"sk-estimator-id-2\" type=\"checkbox\" checked><label for=\"sk-estimator-id-2\" class=\"sk-toggleable__label sk-toggleable__label-arrow\">RandomForestClassifier</label><div class=\"sk-toggleable__content\"><pre>RandomForestClassifier(class_weight={0: 1, 1: 1.0012007204322593},\n",
       "                       criterion=&#x27;entropy&#x27;, max_depth=15, min_samples_leaf=50,\n",
       "                       n_estimators=60, random_state=54321)</pre></div></div></div></div></div>"
      ],
      "text/plain": [
       "RandomForestClassifier(class_weight={0: 1, 1: 1.0012007204322593},\n",
       "                       criterion='entropy', max_depth=15, min_samples_leaf=50,\n",
       "                       n_estimators=60, random_state=54321)"
      ]
     },
     "execution_count": 37,
     "metadata": {},
     "output_type": "execute_result"
    }
   ],
   "source": [
    "model_1 = RandomForestClassifier(class_weight={0:class_0_w,1:class_1_w},criterion='entropy', random_state=54321, n_estimators = est_max, max_depth=depth_max, min_samples_leaf=50)\n",
    "model_1.fit(features_s, target)"
   ]
  },
  {
   "cell_type": "code",
   "execution_count": 38,
   "id": "e329a7db",
   "metadata": {},
   "outputs": [
    {
     "name": "stdout",
     "output_type": "stream",
     "text": [
      "0.820682829731533\n"
     ]
    }
   ],
   "source": [
    "predict_p = model_1.predict_proba(features_s)\n",
    "res = pd.DataFrame(predict_p[:,1])\n",
    "print(roc_auc_score(target, res))"
   ]
  },
  {
   "cell_type": "code",
   "execution_count": 39,
   "id": "75475353",
   "metadata": {},
   "outputs": [
    {
     "name": "stdout",
     "output_type": "stream",
     "text": [
      "age              0.142916\n",
      "height           0.017620\n",
      "weight           0.035380\n",
      "ap_hi            0.488841\n",
      "ap_lo            0.162231\n",
      "imt              0.053552\n",
      "gender           0.003437\n",
      "smoke            0.003347\n",
      "active           0.006957\n",
      "cholesterol_2    0.008421\n",
      "cholesterol_3    0.070540\n",
      "gluc_3           0.006758\n",
      "dtype: float64\n"
     ]
    },
    {
     "data": {
      "image/png": "[encoded data removed]",
      "text/plain": [
       "<Figure size 640x480 with 1 Axes>"
      ]
     },
     "metadata": {},
     "output_type": "display_data"
    }
   ],
   "source": [
    "importances = model_1.feature_importances_\n",
    "std = np.std([tree.feature_importances_ for tree in model_1.estimators_], axis=0)\n",
    "forest_importances = pd.Series(importances, index=features_s.columns)\n",
    "fig, ax = plt.subplots()\n",
    "forest_importances.plot.bar(yerr=std, ax=ax)\n",
    "ax.set_title(\"Feature importances\")\n",
    "ax.set_ylabel(\"\")\n",
    "fig.tight_layout()\n",
    "print(forest_importances)"
   ]
  },
  {
   "cell_type": "markdown",
   "id": "5eda1fd3",
   "metadata": {},
   "source": [
    "### work with test"
   ]
  },
  {
   "cell_type": "code",
   "execution_count": 40,
   "id": "2d4bcf95",
   "metadata": {},
   "outputs": [],
   "source": [
    "test = pd.read_csv('test.csv')"
   ]
  },
  {
   "cell_type": "code",
   "execution_count": 41,
   "id": "67157e0d",
   "metadata": {},
   "outputs": [],
   "source": [
    "test['imt']=test.weight/(test.height**2)*10000\n",
    "test.loc[test.height<100,'height'] = test[test.height<100].height+100\n",
    "test.loc[(test.height<110) |(test.height > 210) ,'height'] = median_height\n",
    "test.loc[test.weight<40,'weight'] = median_weight\n",
    "test.loc[test.ap_hi<20,'ap_hi'] = test[test.ap_hi<20]*10\n",
    "test.loc[test.ap_hi<0,'ap_hi'] = test[test.ap_hi<20]*(-1)\n",
    "test.loc[test.ap_hi>300,'ap_hi'] = test[test.ap_hi>300]/10\n",
    "test.loc[test.ap_hi>300,'ap_hi'] = test[test.ap_hi>300]/10\n",
    "test.loc[test.ap_lo>200,'ap_lo'] = test[test.ap_lo>200]/10\n",
    "test.loc[test.ap_lo>200,'ap_lo'] = test[test.ap_lo>200]/10\n",
    "test.gender = test.gender - 1"
   ]
  },
  {
   "cell_type": "code",
   "execution_count": 42,
   "id": "5bb5a8c7",
   "metadata": {},
   "outputs": [],
   "source": [
    "test.loc[test.ap_hi<test.ap_lo, ['ap_hi', 'ap_lo']] = test.loc[test.ap_hi<test.ap_lo, ['ap_lo', 'ap_hi']].values"
   ]
  },
  {
   "cell_type": "code",
   "execution_count": 43,
   "id": "a39c5d50",
   "metadata": {},
   "outputs": [],
   "source": [
    "ohe_columns = ['cholesterol','gluc']\n",
    "ohe = OneHotEncoder(sparse=False, drop = 'first')\n",
    "encoded_array = ohe.fit_transform(test.loc[:,ohe_columns])\n",
    "test2 = pd.DataFrame(encoded_array,columns=ohe.get_feature_names_out() )\n",
    "test_s= scaler.transform(test[scale_columns])\n",
    "test_s = pd.DataFrame(test_s)\n",
    "test_s.columns = scale_columns\n",
    "test.drop(scale_columns, axis=1, inplace = True)\n",
    "testf = pd.concat([test, test_s], axis=1)\n",
    "testf=pd.concat([testf, test2], axis=1)"
   ]
  },
  {
   "cell_type": "code",
   "execution_count": 44,
   "id": "2582a657",
   "metadata": {},
   "outputs": [],
   "source": [
    "columnsTitles = ['age','height', 'weight','ap_hi','ap_lo','imt','gender', 'smoke', 'alco','active', 'cholesterol_2','cholesterol_3','gluc_2','gluc_3']\n",
    "testf2 = testf.reindex(columns=columnsTitles)"
   ]
  },
  {
   "cell_type": "code",
   "execution_count": 45,
   "id": "d167de73",
   "metadata": {},
   "outputs": [],
   "source": [
    "testf2 = testf2.drop(['alco', 'gluc_2'], axis=1)"
   ]
  },
  {
   "cell_type": "code",
   "execution_count": 46,
   "id": "74e268ae",
   "metadata": {},
   "outputs": [],
   "source": [
    "predict_p = model_1.predict_proba(testf2)\n",
    "#display(pd.DataFrame(model_1.predict(testf2)).value_counts())\n",
    "res_p = pd.DataFrame(predict_p[:,1])\n",
    "res_p.columns=(['cardio'])\n",
    "res_out = pd.concat([test, res_p], axis=1)\n"
   ]
  },
  {
   "cell_type": "code",
   "execution_count": 47,
   "id": "d0bbe6f4",
   "metadata": {},
   "outputs": [
    {
     "data": {
      "text/plain": [
       "0    16255\n",
       "1    13745\n",
       "dtype: int64"
      ]
     },
     "metadata": {},
     "output_type": "display_data"
    }
   ],
   "source": [
    "display(pd.DataFrame(model_1.predict(testf2)).value_counts())"
   ]
  },
  {
   "cell_type": "code",
   "execution_count": 48,
   "id": "748d50fa",
   "metadata": {},
   "outputs": [],
   "source": [
    "res_out[['id', 'cardio']].to_csv('result_03_march-2.csv', index=False)"
   ]
  },
  {
   "cell_type": "code",
   "execution_count": 32,
   "id": "0b176240",
   "metadata": {},
   "outputs": [],
   "source": [
    "import pickle"
   ]
  },
  {
   "cell_type": "code",
   "execution_count": 34,
   "id": "feeb0df2",
   "metadata": {},
   "outputs": [],
   "source": [
    "f = open(\"model_1.bin\", \"wb\")"
   ]
  },
  {
   "cell_type": "code",
   "execution_count": 36,
   "id": "b58b4630",
   "metadata": {},
   "outputs": [],
   "source": [
    "pickle.dump( model_1, f)"
   ]
  },
  {
   "cell_type": "code",
   "execution_count": 37,
   "id": "b69e4789",
   "metadata": {},
   "outputs": [],
   "source": [
    "ff = open(\"scaler.bin\", \"wb\")\n",
    "pickle.dump( scaler , ff)"
   ]
  },
  {
   "cell_type": "code",
   "execution_count": 41,
   "id": "87f7ce98",
   "metadata": {},
   "outputs": [
    {
     "ename": "EOFError",
     "evalue": "Ran out of input",
     "output_type": "error",
     "traceback": [
      "\u001b[0;31m---------------------------------------------------------------------------\u001b[0m",
      "\u001b[0;31mEOFError\u001b[0m                                  Traceback (most recent call last)",
      "Cell \u001b[0;32mIn [41], line 3\u001b[0m\n\u001b[1;32m      1\u001b[0m \u001b[38;5;66;03m###\u001b[39;00m\n\u001b[1;32m      2\u001b[0m \u001b[38;5;28;01mwith\u001b[39;00m \u001b[38;5;28mopen\u001b[39m(\u001b[38;5;124m\"\u001b[39m\u001b[38;5;124mmodel_1.bin\u001b[39m\u001b[38;5;124m\"\u001b[39m, \u001b[38;5;124m\"\u001b[39m\u001b[38;5;124mrb\u001b[39m\u001b[38;5;124m\"\u001b[39m) \u001b[38;5;28;01mas\u001b[39;00m fid:\n\u001b[0;32m----> 3\u001b[0m     model_l \u001b[38;5;241m=\u001b[39m \u001b[43mpickle\u001b[49m\u001b[38;5;241;43m.\u001b[39;49m\u001b[43mload\u001b[49m\u001b[43m(\u001b[49m\u001b[43mfid\u001b[49m\u001b[43m)\u001b[49m\n",
      "\u001b[0;31mEOFError\u001b[0m: Ran out of input"
     ]
    }
   ],
   "source": [
    "###\n",
    "with open(\"model_1.bin\", \"rb\") as fid:\n",
    "    model_l = pickle.load(fid)"
   ]
  },
  {
   "cell_type": "code",
   "execution_count": 46,
   "id": "30a2caf9",
   "metadata": {},
   "outputs": [],
   "source": [
    "ff = open(\"scaler.bin\", \"rb\")\n",
    "scaler_2 = pickle.load(ff)"
   ]
  },
  {
   "cell_type": "code",
   "execution_count": 52,
   "id": "f6d5623d",
   "metadata": {
    "collapsed": true
   },
   "outputs": [
    {
     "ename": "KeyError",
     "evalue": "\"None of [Index(['age', 'height', 'weight', 'ap_hi', 'ap_lo', 'imt'], dtype='object')] are in the [columns]\"",
     "output_type": "error",
     "traceback": [
      "\u001b[0;31m---------------------------------------------------------------------------\u001b[0m",
      "\u001b[0;31mKeyError\u001b[0m                                  Traceback (most recent call last)",
      "Cell \u001b[0;32mIn [52], line 1\u001b[0m\n\u001b[0;32m----> 1\u001b[0m test_s\u001b[38;5;241m=\u001b[39m scaler\u001b[38;5;241m.\u001b[39mtransform(\u001b[43mtest\u001b[49m\u001b[43m[\u001b[49m\u001b[43mscale_columns\u001b[49m\u001b[43m]\u001b[49m)\n",
      "File \u001b[0;32m/usr/local/lib/python3.10/site-packages/pandas/core/frame.py:3811\u001b[0m, in \u001b[0;36mDataFrame.__getitem__\u001b[0;34m(self, key)\u001b[0m\n\u001b[1;32m   3809\u001b[0m     \u001b[38;5;28;01mif\u001b[39;00m is_iterator(key):\n\u001b[1;32m   3810\u001b[0m         key \u001b[38;5;241m=\u001b[39m \u001b[38;5;28mlist\u001b[39m(key)\n\u001b[0;32m-> 3811\u001b[0m     indexer \u001b[38;5;241m=\u001b[39m \u001b[38;5;28;43mself\u001b[39;49m\u001b[38;5;241;43m.\u001b[39;49m\u001b[43mcolumns\u001b[49m\u001b[38;5;241;43m.\u001b[39;49m\u001b[43m_get_indexer_strict\u001b[49m\u001b[43m(\u001b[49m\u001b[43mkey\u001b[49m\u001b[43m,\u001b[49m\u001b[43m \u001b[49m\u001b[38;5;124;43m\"\u001b[39;49m\u001b[38;5;124;43mcolumns\u001b[39;49m\u001b[38;5;124;43m\"\u001b[39;49m\u001b[43m)\u001b[49m[\u001b[38;5;241m1\u001b[39m]\n\u001b[1;32m   3813\u001b[0m \u001b[38;5;66;03m# take() does not accept boolean indexers\u001b[39;00m\n\u001b[1;32m   3814\u001b[0m \u001b[38;5;28;01mif\u001b[39;00m \u001b[38;5;28mgetattr\u001b[39m(indexer, \u001b[38;5;124m\"\u001b[39m\u001b[38;5;124mdtype\u001b[39m\u001b[38;5;124m\"\u001b[39m, \u001b[38;5;28;01mNone\u001b[39;00m) \u001b[38;5;241m==\u001b[39m \u001b[38;5;28mbool\u001b[39m:\n",
      "File \u001b[0;32m/usr/local/lib/python3.10/site-packages/pandas/core/indexes/base.py:6108\u001b[0m, in \u001b[0;36mIndex._get_indexer_strict\u001b[0;34m(self, key, axis_name)\u001b[0m\n\u001b[1;32m   6105\u001b[0m \u001b[38;5;28;01melse\u001b[39;00m:\n\u001b[1;32m   6106\u001b[0m     keyarr, indexer, new_indexer \u001b[38;5;241m=\u001b[39m \u001b[38;5;28mself\u001b[39m\u001b[38;5;241m.\u001b[39m_reindex_non_unique(keyarr)\n\u001b[0;32m-> 6108\u001b[0m \u001b[38;5;28;43mself\u001b[39;49m\u001b[38;5;241;43m.\u001b[39;49m\u001b[43m_raise_if_missing\u001b[49m\u001b[43m(\u001b[49m\u001b[43mkeyarr\u001b[49m\u001b[43m,\u001b[49m\u001b[43m \u001b[49m\u001b[43mindexer\u001b[49m\u001b[43m,\u001b[49m\u001b[43m \u001b[49m\u001b[43maxis_name\u001b[49m\u001b[43m)\u001b[49m\n\u001b[1;32m   6110\u001b[0m keyarr \u001b[38;5;241m=\u001b[39m \u001b[38;5;28mself\u001b[39m\u001b[38;5;241m.\u001b[39mtake(indexer)\n\u001b[1;32m   6111\u001b[0m \u001b[38;5;28;01mif\u001b[39;00m \u001b[38;5;28misinstance\u001b[39m(key, Index):\n\u001b[1;32m   6112\u001b[0m     \u001b[38;5;66;03m# GH 42790 - Preserve name from an Index\u001b[39;00m\n",
      "File \u001b[0;32m/usr/local/lib/python3.10/site-packages/pandas/core/indexes/base.py:6168\u001b[0m, in \u001b[0;36mIndex._raise_if_missing\u001b[0;34m(self, key, indexer, axis_name)\u001b[0m\n\u001b[1;32m   6166\u001b[0m     \u001b[38;5;28;01mif\u001b[39;00m use_interval_msg:\n\u001b[1;32m   6167\u001b[0m         key \u001b[38;5;241m=\u001b[39m \u001b[38;5;28mlist\u001b[39m(key)\n\u001b[0;32m-> 6168\u001b[0m     \u001b[38;5;28;01mraise\u001b[39;00m \u001b[38;5;167;01mKeyError\u001b[39;00m(\u001b[38;5;124mf\u001b[39m\u001b[38;5;124m\"\u001b[39m\u001b[38;5;124mNone of [\u001b[39m\u001b[38;5;132;01m{\u001b[39;00mkey\u001b[38;5;132;01m}\u001b[39;00m\u001b[38;5;124m] are in the [\u001b[39m\u001b[38;5;132;01m{\u001b[39;00maxis_name\u001b[38;5;132;01m}\u001b[39;00m\u001b[38;5;124m]\u001b[39m\u001b[38;5;124m\"\u001b[39m)\n\u001b[1;32m   6170\u001b[0m not_found \u001b[38;5;241m=\u001b[39m \u001b[38;5;28mlist\u001b[39m(ensure_index(key)[missing_mask\u001b[38;5;241m.\u001b[39mnonzero()[\u001b[38;5;241m0\u001b[39m]]\u001b[38;5;241m.\u001b[39munique())\n\u001b[1;32m   6171\u001b[0m \u001b[38;5;28;01mraise\u001b[39;00m \u001b[38;5;167;01mKeyError\u001b[39;00m(\u001b[38;5;124mf\u001b[39m\u001b[38;5;124m\"\u001b[39m\u001b[38;5;132;01m{\u001b[39;00mnot_found\u001b[38;5;132;01m}\u001b[39;00m\u001b[38;5;124m not in index\u001b[39m\u001b[38;5;124m\"\u001b[39m)\n",
      "\u001b[0;31mKeyError\u001b[0m: \"None of [Index(['age', 'height', 'weight', 'ap_hi', 'ap_lo', 'imt'], dtype='object')] are in the [columns]\""
     ]
    }
   ],
   "source": [
    "test_s= scaler.transform(test[scale_columns])"
   ]
  },
  {
   "cell_type": "code",
   "execution_count": 10,
   "id": "87fce360",
   "metadata": {
    "scrolled": true
   },
   "outputs": [
    {
     "data": {
      "text/html": [
       "<div>\n",
       "<style scoped>\n",
       "    .dataframe tbody tr th:only-of-type {\n",
       "        vertical-align: middle;\n",
       "    }\n",
       "\n",
       "    .dataframe tbody tr th {\n",
       "        vertical-align: top;\n",
       "    }\n",
       "\n",
       "    .dataframe thead th {\n",
       "        text-align: right;\n",
       "    }\n",
       "</style>\n",
       "<table border=\"1\" class=\"dataframe\">\n",
       "  <thead>\n",
       "    <tr style=\"text-align: right;\">\n",
       "      <th></th>\n",
       "      <th>id</th>\n",
       "      <th>age</th>\n",
       "      <th>gender</th>\n",
       "      <th>height</th>\n",
       "      <th>weight</th>\n",
       "      <th>ap_hi</th>\n",
       "      <th>ap_lo</th>\n",
       "      <th>cholesterol</th>\n",
       "      <th>gluc</th>\n",
       "      <th>smoke</th>\n",
       "      <th>alco</th>\n",
       "      <th>active</th>\n",
       "      <th>cardio</th>\n",
       "      <th>imt</th>\n",
       "    </tr>\n",
       "  </thead>\n",
       "  <tbody>\n",
       "    <tr>\n",
       "      <th>474</th>\n",
       "      <td>681</td>\n",
       "      <td>19099</td>\n",
       "      <td>1</td>\n",
       "      <td>156</td>\n",
       "      <td>65.0</td>\n",
       "      <td>120</td>\n",
       "      <td>150.0</td>\n",
       "      <td>2</td>\n",
       "      <td>1</td>\n",
       "      <td>0</td>\n",
       "      <td>0</td>\n",
       "      <td>1</td>\n",
       "      <td>0</td>\n",
       "      <td>26.709402</td>\n",
       "    </tr>\n",
       "    <tr>\n",
       "      <th>636</th>\n",
       "      <td>913</td>\n",
       "      <td>20457</td>\n",
       "      <td>2</td>\n",
       "      <td>169</td>\n",
       "      <td>68.0</td>\n",
       "      <td>70</td>\n",
       "      <td>110.0</td>\n",
       "      <td>1</td>\n",
       "      <td>1</td>\n",
       "      <td>0</td>\n",
       "      <td>0</td>\n",
       "      <td>1</td>\n",
       "      <td>0</td>\n",
       "      <td>23.808690</td>\n",
       "    </tr>\n",
       "    <tr>\n",
       "      <th>2381</th>\n",
       "      <td>3352</td>\n",
       "      <td>20994</td>\n",
       "      <td>2</td>\n",
       "      <td>186</td>\n",
       "      <td>105.0</td>\n",
       "      <td>140</td>\n",
       "      <td>1000.0</td>\n",
       "      <td>1</td>\n",
       "      <td>1</td>\n",
       "      <td>0</td>\n",
       "      <td>0</td>\n",
       "      <td>1</td>\n",
       "      <td>1</td>\n",
       "      <td>30.350330</td>\n",
       "    </tr>\n",
       "    <tr>\n",
       "      <th>2384</th>\n",
       "      <td>3356</td>\n",
       "      <td>23361</td>\n",
       "      <td>1</td>\n",
       "      <td>154</td>\n",
       "      <td>102.0</td>\n",
       "      <td>90</td>\n",
       "      <td>150.0</td>\n",
       "      <td>1</td>\n",
       "      <td>1</td>\n",
       "      <td>0</td>\n",
       "      <td>0</td>\n",
       "      <td>0</td>\n",
       "      <td>1</td>\n",
       "      <td>43.008939</td>\n",
       "    </tr>\n",
       "    <tr>\n",
       "      <th>2985</th>\n",
       "      <td>4208</td>\n",
       "      <td>20398</td>\n",
       "      <td>1</td>\n",
       "      <td>168</td>\n",
       "      <td>78.0</td>\n",
       "      <td>140</td>\n",
       "      <td>804.4</td>\n",
       "      <td>3</td>\n",
       "      <td>3</td>\n",
       "      <td>0</td>\n",
       "      <td>0</td>\n",
       "      <td>0</td>\n",
       "      <td>1</td>\n",
       "      <td>27.636054</td>\n",
       "    </tr>\n",
       "    <tr>\n",
       "      <th>...</th>\n",
       "      <td>...</td>\n",
       "      <td>...</td>\n",
       "      <td>...</td>\n",
       "      <td>...</td>\n",
       "      <td>...</td>\n",
       "      <td>...</td>\n",
       "      <td>...</td>\n",
       "      <td>...</td>\n",
       "      <td>...</td>\n",
       "      <td>...</td>\n",
       "      <td>...</td>\n",
       "      <td>...</td>\n",
       "      <td>...</td>\n",
       "      <td>...</td>\n",
       "    </tr>\n",
       "    <tr>\n",
       "      <th>67162</th>\n",
       "      <td>95886</td>\n",
       "      <td>18469</td>\n",
       "      <td>2</td>\n",
       "      <td>165</td>\n",
       "      <td>68.0</td>\n",
       "      <td>113</td>\n",
       "      <td>570.0</td>\n",
       "      <td>1</td>\n",
       "      <td>1</td>\n",
       "      <td>0</td>\n",
       "      <td>0</td>\n",
       "      <td>1</td>\n",
       "      <td>0</td>\n",
       "      <td>24.977043</td>\n",
       "    </tr>\n",
       "    <tr>\n",
       "      <th>67421</th>\n",
       "      <td>96271</td>\n",
       "      <td>23424</td>\n",
       "      <td>1</td>\n",
       "      <td>153</td>\n",
       "      <td>74.0</td>\n",
       "      <td>80</td>\n",
       "      <td>130.0</td>\n",
       "      <td>1</td>\n",
       "      <td>1</td>\n",
       "      <td>0</td>\n",
       "      <td>0</td>\n",
       "      <td>1</td>\n",
       "      <td>1</td>\n",
       "      <td>31.611773</td>\n",
       "    </tr>\n",
       "    <tr>\n",
       "      <th>67470</th>\n",
       "      <td>96339</td>\n",
       "      <td>21193</td>\n",
       "      <td>2</td>\n",
       "      <td>172</td>\n",
       "      <td>57.0</td>\n",
       "      <td>80</td>\n",
       "      <td>120.0</td>\n",
       "      <td>1</td>\n",
       "      <td>1</td>\n",
       "      <td>1</td>\n",
       "      <td>0</td>\n",
       "      <td>1</td>\n",
       "      <td>1</td>\n",
       "      <td>19.267171</td>\n",
       "    </tr>\n",
       "    <tr>\n",
       "      <th>68067</th>\n",
       "      <td>97210</td>\n",
       "      <td>18421</td>\n",
       "      <td>1</td>\n",
       "      <td>152</td>\n",
       "      <td>65.0</td>\n",
       "      <td>80</td>\n",
       "      <td>120.0</td>\n",
       "      <td>1</td>\n",
       "      <td>1</td>\n",
       "      <td>0</td>\n",
       "      <td>0</td>\n",
       "      <td>1</td>\n",
       "      <td>0</td>\n",
       "      <td>28.133657</td>\n",
       "    </tr>\n",
       "    <tr>\n",
       "      <th>68538</th>\n",
       "      <td>97907</td>\n",
       "      <td>19062</td>\n",
       "      <td>1</td>\n",
       "      <td>166</td>\n",
       "      <td>70.0</td>\n",
       "      <td>160</td>\n",
       "      <td>1000.0</td>\n",
       "      <td>2</td>\n",
       "      <td>1</td>\n",
       "      <td>0</td>\n",
       "      <td>0</td>\n",
       "      <td>1</td>\n",
       "      <td>1</td>\n",
       "      <td>25.402816</td>\n",
       "    </tr>\n",
       "  </tbody>\n",
       "</table>\n",
       "<p>147 rows × 14 columns</p>\n",
       "</div>"
      ],
      "text/plain": [
       "          id    age  gender  height  weight  ap_hi   ap_lo  cholesterol  gluc  \\\n",
       "474      681  19099       1     156    65.0    120   150.0            2     1   \n",
       "636      913  20457       2     169    68.0     70   110.0            1     1   \n",
       "2381    3352  20994       2     186   105.0    140  1000.0            1     1   \n",
       "2384    3356  23361       1     154   102.0     90   150.0            1     1   \n",
       "2985    4208  20398       1     168    78.0    140   804.4            3     3   \n",
       "...      ...    ...     ...     ...     ...    ...     ...          ...   ...   \n",
       "67162  95886  18469       2     165    68.0    113   570.0            1     1   \n",
       "67421  96271  23424       1     153    74.0     80   130.0            1     1   \n",
       "67470  96339  21193       2     172    57.0     80   120.0            1     1   \n",
       "68067  97210  18421       1     152    65.0     80   120.0            1     1   \n",
       "68538  97907  19062       1     166    70.0    160  1000.0            2     1   \n",
       "\n",
       "       smoke  alco  active  cardio        imt  \n",
       "474        0     0       1       0  26.709402  \n",
       "636        0     0       1       0  23.808690  \n",
       "2381       0     0       1       1  30.350330  \n",
       "2384       0     0       0       1  43.008939  \n",
       "2985       0     0       0       1  27.636054  \n",
       "...      ...   ...     ...     ...        ...  \n",
       "67162      0     0       1       0  24.977043  \n",
       "67421      0     0       1       1  31.611773  \n",
       "67470      1     0       1       1  19.267171  \n",
       "68067      0     0       1       0  28.133657  \n",
       "68538      0     0       1       1  25.402816  \n",
       "\n",
       "[147 rows x 14 columns]"
      ]
     },
     "execution_count": 10,
     "metadata": {},
     "output_type": "execute_result"
    }
   ],
   "source": [
    "df[df.ap_hi<df.ap_lo]"
   ]
  },
  {
   "cell_type": "code",
   "execution_count": 7,
   "id": "9b6182c8",
   "metadata": {},
   "outputs": [],
   "source": [
    "df.loc[df.ap_lo>200,'ap_lo'] = df[df.ap_lo>200]/10"
   ]
  },
  {
   "cell_type": "code",
   "execution_count": 9,
   "id": "a7113690",
   "metadata": {},
   "outputs": [],
   "source": [
    "df.loc[df.ap_hi<20,'ap_hi'] = df[df.ap_hi<20]*10"
   ]
  },
  {
   "cell_type": "code",
   "execution_count": 11,
   "id": "70326076",
   "metadata": {},
   "outputs": [],
   "source": [
    "df.loc[df.ap_hi<df.ap_lo, ['ap_hi', 'ap_lo']] =df[df.ap_hi<df.ap_lo, ['ap_lo', 'ap_hi']] "
   ]
  },
  {
   "cell_type": "code",
   "execution_count": 12,
   "id": "03ab64f2",
   "metadata": {},
   "outputs": [
    {
     "data": {
      "text/html": [
       "<div>\n",
       "<style scoped>\n",
       "    .dataframe tbody tr th:only-of-type {\n",
       "        vertical-align: middle;\n",
       "    }\n",
       "\n",
       "    .dataframe tbody tr th {\n",
       "        vertical-align: top;\n",
       "    }\n",
       "\n",
       "    .dataframe thead th {\n",
       "        text-align: right;\n",
       "    }\n",
       "</style>\n",
       "<table border=\"1\" class=\"dataframe\">\n",
       "  <thead>\n",
       "    <tr style=\"text-align: right;\">\n",
       "      <th></th>\n",
       "      <th>id</th>\n",
       "      <th>age</th>\n",
       "      <th>gender</th>\n",
       "      <th>height</th>\n",
       "      <th>weight</th>\n",
       "      <th>ap_hi</th>\n",
       "      <th>ap_lo</th>\n",
       "      <th>cholesterol</th>\n",
       "      <th>gluc</th>\n",
       "      <th>smoke</th>\n",
       "      <th>alco</th>\n",
       "      <th>active</th>\n",
       "      <th>cardio</th>\n",
       "      <th>imt</th>\n",
       "    </tr>\n",
       "  </thead>\n",
       "  <tbody>\n",
       "    <tr>\n",
       "      <th>474</th>\n",
       "      <td>681</td>\n",
       "      <td>19099</td>\n",
       "      <td>1</td>\n",
       "      <td>156</td>\n",
       "      <td>65.0</td>\n",
       "      <td>120</td>\n",
       "      <td>150.0</td>\n",
       "      <td>2</td>\n",
       "      <td>1</td>\n",
       "      <td>0</td>\n",
       "      <td>0</td>\n",
       "      <td>1</td>\n",
       "      <td>0</td>\n",
       "      <td>26.709402</td>\n",
       "    </tr>\n",
       "    <tr>\n",
       "      <th>636</th>\n",
       "      <td>913</td>\n",
       "      <td>20457</td>\n",
       "      <td>2</td>\n",
       "      <td>169</td>\n",
       "      <td>68.0</td>\n",
       "      <td>70</td>\n",
       "      <td>110.0</td>\n",
       "      <td>1</td>\n",
       "      <td>1</td>\n",
       "      <td>0</td>\n",
       "      <td>0</td>\n",
       "      <td>1</td>\n",
       "      <td>0</td>\n",
       "      <td>23.808690</td>\n",
       "    </tr>\n",
       "    <tr>\n",
       "      <th>2381</th>\n",
       "      <td>3352</td>\n",
       "      <td>20994</td>\n",
       "      <td>2</td>\n",
       "      <td>186</td>\n",
       "      <td>105.0</td>\n",
       "      <td>140</td>\n",
       "      <td>1000.0</td>\n",
       "      <td>1</td>\n",
       "      <td>1</td>\n",
       "      <td>0</td>\n",
       "      <td>0</td>\n",
       "      <td>1</td>\n",
       "      <td>1</td>\n",
       "      <td>30.350330</td>\n",
       "    </tr>\n",
       "    <tr>\n",
       "      <th>2384</th>\n",
       "      <td>3356</td>\n",
       "      <td>23361</td>\n",
       "      <td>1</td>\n",
       "      <td>154</td>\n",
       "      <td>102.0</td>\n",
       "      <td>90</td>\n",
       "      <td>150.0</td>\n",
       "      <td>1</td>\n",
       "      <td>1</td>\n",
       "      <td>0</td>\n",
       "      <td>0</td>\n",
       "      <td>0</td>\n",
       "      <td>1</td>\n",
       "      <td>43.008939</td>\n",
       "    </tr>\n",
       "    <tr>\n",
       "      <th>2985</th>\n",
       "      <td>4208</td>\n",
       "      <td>20398</td>\n",
       "      <td>1</td>\n",
       "      <td>168</td>\n",
       "      <td>78.0</td>\n",
       "      <td>140</td>\n",
       "      <td>804.4</td>\n",
       "      <td>3</td>\n",
       "      <td>3</td>\n",
       "      <td>0</td>\n",
       "      <td>0</td>\n",
       "      <td>0</td>\n",
       "      <td>1</td>\n",
       "      <td>27.636054</td>\n",
       "    </tr>\n",
       "    <tr>\n",
       "      <th>...</th>\n",
       "      <td>...</td>\n",
       "      <td>...</td>\n",
       "      <td>...</td>\n",
       "      <td>...</td>\n",
       "      <td>...</td>\n",
       "      <td>...</td>\n",
       "      <td>...</td>\n",
       "      <td>...</td>\n",
       "      <td>...</td>\n",
       "      <td>...</td>\n",
       "      <td>...</td>\n",
       "      <td>...</td>\n",
       "      <td>...</td>\n",
       "      <td>...</td>\n",
       "    </tr>\n",
       "    <tr>\n",
       "      <th>67162</th>\n",
       "      <td>95886</td>\n",
       "      <td>18469</td>\n",
       "      <td>2</td>\n",
       "      <td>165</td>\n",
       "      <td>68.0</td>\n",
       "      <td>113</td>\n",
       "      <td>570.0</td>\n",
       "      <td>1</td>\n",
       "      <td>1</td>\n",
       "      <td>0</td>\n",
       "      <td>0</td>\n",
       "      <td>1</td>\n",
       "      <td>0</td>\n",
       "      <td>24.977043</td>\n",
       "    </tr>\n",
       "    <tr>\n",
       "      <th>67421</th>\n",
       "      <td>96271</td>\n",
       "      <td>23424</td>\n",
       "      <td>1</td>\n",
       "      <td>153</td>\n",
       "      <td>74.0</td>\n",
       "      <td>80</td>\n",
       "      <td>130.0</td>\n",
       "      <td>1</td>\n",
       "      <td>1</td>\n",
       "      <td>0</td>\n",
       "      <td>0</td>\n",
       "      <td>1</td>\n",
       "      <td>1</td>\n",
       "      <td>31.611773</td>\n",
       "    </tr>\n",
       "    <tr>\n",
       "      <th>67470</th>\n",
       "      <td>96339</td>\n",
       "      <td>21193</td>\n",
       "      <td>2</td>\n",
       "      <td>172</td>\n",
       "      <td>57.0</td>\n",
       "      <td>80</td>\n",
       "      <td>120.0</td>\n",
       "      <td>1</td>\n",
       "      <td>1</td>\n",
       "      <td>1</td>\n",
       "      <td>0</td>\n",
       "      <td>1</td>\n",
       "      <td>1</td>\n",
       "      <td>19.267171</td>\n",
       "    </tr>\n",
       "    <tr>\n",
       "      <th>68067</th>\n",
       "      <td>97210</td>\n",
       "      <td>18421</td>\n",
       "      <td>1</td>\n",
       "      <td>152</td>\n",
       "      <td>65.0</td>\n",
       "      <td>80</td>\n",
       "      <td>120.0</td>\n",
       "      <td>1</td>\n",
       "      <td>1</td>\n",
       "      <td>0</td>\n",
       "      <td>0</td>\n",
       "      <td>1</td>\n",
       "      <td>0</td>\n",
       "      <td>28.133657</td>\n",
       "    </tr>\n",
       "    <tr>\n",
       "      <th>68538</th>\n",
       "      <td>97907</td>\n",
       "      <td>19062</td>\n",
       "      <td>1</td>\n",
       "      <td>166</td>\n",
       "      <td>70.0</td>\n",
       "      <td>160</td>\n",
       "      <td>1000.0</td>\n",
       "      <td>2</td>\n",
       "      <td>1</td>\n",
       "      <td>0</td>\n",
       "      <td>0</td>\n",
       "      <td>1</td>\n",
       "      <td>1</td>\n",
       "      <td>25.402816</td>\n",
       "    </tr>\n",
       "  </tbody>\n",
       "</table>\n",
       "<p>147 rows × 14 columns</p>\n",
       "</div>"
      ],
      "text/plain": [
       "          id    age  gender  height  weight  ap_hi   ap_lo  cholesterol  gluc  \\\n",
       "474      681  19099       1     156    65.0    120   150.0            2     1   \n",
       "636      913  20457       2     169    68.0     70   110.0            1     1   \n",
       "2381    3352  20994       2     186   105.0    140  1000.0            1     1   \n",
       "2384    3356  23361       1     154   102.0     90   150.0            1     1   \n",
       "2985    4208  20398       1     168    78.0    140   804.4            3     3   \n",
       "...      ...    ...     ...     ...     ...    ...     ...          ...   ...   \n",
       "67162  95886  18469       2     165    68.0    113   570.0            1     1   \n",
       "67421  96271  23424       1     153    74.0     80   130.0            1     1   \n",
       "67470  96339  21193       2     172    57.0     80   120.0            1     1   \n",
       "68067  97210  18421       1     152    65.0     80   120.0            1     1   \n",
       "68538  97907  19062       1     166    70.0    160  1000.0            2     1   \n",
       "\n",
       "       smoke  alco  active  cardio        imt  \n",
       "474        0     0       1       0  26.709402  \n",
       "636        0     0       1       0  23.808690  \n",
       "2381       0     0       1       1  30.350330  \n",
       "2384       0     0       0       1  43.008939  \n",
       "2985       0     0       0       1  27.636054  \n",
       "...      ...   ...     ...     ...        ...  \n",
       "67162      0     0       1       0  24.977043  \n",
       "67421      0     0       1       1  31.611773  \n",
       "67470      1     0       1       1  19.267171  \n",
       "68067      0     0       1       0  28.133657  \n",
       "68538      0     0       1       1  25.402816  \n",
       "\n",
       "[147 rows x 14 columns]"
      ]
     },
     "execution_count": 12,
     "metadata": {},
     "output_type": "execute_result"
    }
   ],
   "source": [
    "df[df.ap_hi<df.ap_lo]"
   ]
  },
  {
   "cell_type": "code",
   "execution_count": 26,
   "id": "bc66a34c",
   "metadata": {},
   "outputs": [
    {
     "data": {
      "text/html": [
       "<div>\n",
       "<style scoped>\n",
       "    .dataframe tbody tr th:only-of-type {\n",
       "        vertical-align: middle;\n",
       "    }\n",
       "\n",
       "    .dataframe tbody tr th {\n",
       "        vertical-align: top;\n",
       "    }\n",
       "\n",
       "    .dataframe thead th {\n",
       "        text-align: right;\n",
       "    }\n",
       "</style>\n",
       "<table border=\"1\" class=\"dataframe\">\n",
       "  <thead>\n",
       "    <tr style=\"text-align: right;\">\n",
       "      <th></th>\n",
       "      <th>ap_hi</th>\n",
       "      <th>ap_lo</th>\n",
       "    </tr>\n",
       "  </thead>\n",
       "  <tbody>\n",
       "  </tbody>\n",
       "</table>\n",
       "</div>"
      ],
      "text/plain": [
       "Empty DataFrame\n",
       "Columns: [ap_hi, ap_lo]\n",
       "Index: []"
      ]
     },
     "execution_count": 26,
     "metadata": {},
     "output_type": "execute_result"
    }
   ],
   "source": [
    "df[df.ap_hi<df.ap_lo][['ap_hi', 'ap_lo']]"
   ]
  },
  {
   "cell_type": "code",
   "execution_count": 25,
   "id": "11b3e396",
   "metadata": {},
   "outputs": [],
   "source": []
  },
  {
   "cell_type": "code",
   "execution_count": null,
   "id": "ea544186",
   "metadata": {},
   "outputs": [],
   "source": []
  }
 ],
 "metadata": {
  "kernelspec": {
   "display_name": "Python 3 (ipykernel)",
   "language": "python",
   "name": "python3"
  },
  "language_info": {
   "codemirror_mode": {
    "name": "ipython",
    "version": 3
   },
   "file_extension": ".py",
   "mimetype": "text/x-python",
   "name": "python",
   "nbconvert_exporter": "python",
   "pygments_lexer": "ipython3",
   "version": "3.10.8"
  },
  "toc": {
   "base_numbering": 1,
   "nav_menu": {},
   "number_sections": true,
   "sideBar": true,
   "skip_h1_title": false,
   "title_cell": "Table of Contents",
   "title_sidebar": "Contents",
   "toc_cell": false,
   "toc_position": {
    "height": "312px",
    "left": "25px",
    "top": "110px",
    "width": "165px"
   },
   "toc_section_display": true,
   "toc_window_display": true
  },
  "varInspector": {
   "cols": {
    "lenName": 16,
    "lenType": 16,
    "lenVar": 40
   },
   "kernels_config": {
    "python": {
     "delete_cmd_postfix": "",
     "delete_cmd_prefix": "del ",
     "library": "var_list.py",
     "varRefreshCmd": "print(var_dic_list())"
    },
    "r": {
     "delete_cmd_postfix": ") ",
     "delete_cmd_prefix": "rm(",
     "library": "var_list.r",
     "varRefreshCmd": "cat(var_dic_list()) "
    }
   },
   "types_to_exclude": [
    "module",
    "function",
    "builtin_function_or_method",
    "instance",
    "_Feature"
   ],
   "window_display": false
  }
 },
 "nbformat": 4,
 "nbformat_minor": 5
}
